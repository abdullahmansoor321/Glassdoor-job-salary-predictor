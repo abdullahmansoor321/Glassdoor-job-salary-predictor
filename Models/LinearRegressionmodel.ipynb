{
  "cells": [
    {
      "cell_type": "markdown",
      "metadata": {
        "id": "xDbhudmS79Ia"
      },
      "source": [
        "# **LINEAR REGRESSION WITH PYTHON LIBRARIES**"
      ]
    },
    {
      "cell_type": "code",
      "execution_count": 12,
      "metadata": {
        "id": "dLEXo24J4E-N"
      },
      "outputs": [],
      "source": [
        "import pandas as pd\n",
        "import numpy as np\n",
        "import seaborn as sns\n",
        "import matplotlib.pyplot as plt\n",
        "from sklearn.model_selection import train_test_split\n",
        "from sklearn.linear_model import LinearRegression\n",
        "from sklearn.metrics import mean_squared_error, mean_absolute_error, r2_score, explained_variance_score\n",
        "\n",
        "# Load data\n",
        "df = pd.read_csv('/content/salary_data_cleaned.csv')\n",
        "df.head()\n",
        "\n",
        "# Select relevant columns\n",
        "df_model = df[['Rating','Location','Size','Type of ownership','Industry','Sector','Revenue','hourly','employer_provided','avg_salary',\n",
        "               'same_state','age','python_yn','spark','aws','excel','Job Title','math', 'engineering', 'data analysis', 'AI']]\n",
        "df_dum = pd.get_dummies(df_model, drop_first=True)\n",
        "\n",
        "# Convert boolean columns to integers\n",
        "bool_columns = df_dum.select_dtypes(include=['bool']).columns\n",
        "df_dum[bool_columns] = df_dum[bool_columns].astype(int)\n",
        "\n",
        "# Train test split\n",
        "X = df_dum.drop('avg_salary', axis=1)\n",
        "y = df_dum.avg_salary.values\n",
        "X_train, X_test, y_train, y_test = train_test_split(X, y, test_size=0.2, random_state=42)\n",
        "\n",
        "# Fit the model\n",
        "lr = LinearRegression()\n",
        "lr.fit(X_train, y_train)\n",
        "y_pred_lr = lr.predict(X_test)\n",
        "\n"
      ]
    },
    {
      "cell_type": "markdown",
      "metadata": {
        "id": "HMZ5ADhC9eEX"
      },
      "source": [
        "Performance Metrics"
      ]
    },
    {
      "cell_type": "code",
      "execution_count": 13,
      "metadata": {
        "colab": {
          "base_uri": "https://localhost:8080/"
        },
        "id": "ft3NWvSp9Xjn",
        "outputId": "3998542a-6ea5-4dbc-90c1-a757fcea2929"
      },
      "outputs": [
        {
          "name": "stdout",
          "output_type": "stream",
          "text": [
            "Mean Squared Error : 3748.954246996\n",
            "Mean Absolute Error : 29.425706501547925\n",
            "Root Mean Squared Error : 61.22870443669375\n",
            "R-squared (R²) Score: -1.2936240893404314\n",
            "Adjusted R-squared (Adjusted R²) Score: 1.7697423247673103\n",
            "Mean Absolute Percentage Error (MAPE): 32.0463296345524\n",
            "Explained Variance Score: -1.1871198192591756\n"
          ]
        }
      ],
      "source": [
        "# Calculate metrics\n",
        "mse = mean_squared_error(y_test, y_pred_lr)\n",
        "mae = mean_absolute_error(y_test, y_pred_lr)\n",
        "rmse = mean_squared_error(y_test, y_pred_lr, squared=False)\n",
        "r2 = r2_score(y_test, y_pred_lr)\n",
        "\n",
        "def adjusted_r2_score(y_true, y_pred, X):\n",
        "    r2 = r2_score(y_true, y_pred)\n",
        "    n = X.shape[0]\n",
        "    p = X.shape[1]\n",
        "    return 1 - (1 - r2) * (n - 1) / (n - p - 1)\n",
        "\n",
        "adjusted_r2 = adjusted_r2_score(y_test, y_pred_lr, X_test)\n",
        "\n",
        "def mean_absolute_percentage_error(y_true, y_pred):\n",
        "    return np.mean(np.abs((y_true - y_pred) / y_true)) * 100\n",
        "\n",
        "mape = mean_absolute_percentage_error(y_test, y_pred_lr)\n",
        "explained_variance = explained_variance_score(y_test, y_pred_lr)\n",
        "\n",
        "print(\"Mean Squared Error :\", mse)\n",
        "print(\"Mean Absolute Error :\", mae)\n",
        "print(\"Root Mean Squared Error :\", rmse)\n",
        "print(\"R-squared (R²) Score:\", r2)\n",
        "print(\"Adjusted R-squared (Adjusted R²) Score:\", adjusted_r2)\n",
        "print(\"Mean Absolute Percentage Error (MAPE):\", mape)\n",
        "print(\"Explained Variance Score:\", explained_variance)"
      ]
    },
    {
      "cell_type": "code",
      "execution_count": 14,
      "metadata": {
        "colab": {
          "base_uri": "https://localhost:8080/"
        },
        "id": "41RwVd6kSg3_",
        "outputId": "0971a803-e53b-433a-c10a-4247bf506bc5"
      },
      "outputs": [
        {
          "name": "stdout",
          "output_type": "stream",
          "text": [
            "Linear Regression - Train MSE: 8.786400593521043, Test MSE: 296.5028997227036\n"
          ]
        }
      ],
      "source": [
        "#Evaluating overfitting and underfitting of model\n",
        "df_model = df[['Rating','Location','Size','Type of ownership','Industry','Sector','Revenue','hourly','employer_provided','avg_salary',\n",
        "               'same_state','age','python_yn','spark','aws','excel','Job Title','math', 'engineering', 'data analysis', 'AI']]\n",
        "\n",
        "df_dum = pd.get_dummies(df_model)\n",
        "X = df_dum.drop('avg_salary', axis=1)\n",
        "y = df_dum['avg_salary'].values\n",
        "\n",
        "X_train, X_test, y_train, y_test = train_test_split(X, y, test_size=0.2, random_state=42)\n",
        "lr = LinearRegression()\n",
        "lr.fit(X_train, y_train)\n",
        "y_pred_test = lr.predict(X_test)\n",
        "y_pred_train = lr.predict(X_train)\n",
        "\n",
        "# Mean Squared Error for Train and Test\n",
        "mse_train = mean_squared_error(y_train, y_pred_train)\n",
        "mse_test = mean_squared_error(y_test, y_pred_test)\n",
        "mse_test = mse_test/10000000000000000000\n",
        "\n",
        "print(f\"Linear Regression - Train MSE: {mse_train}, Test MSE: {mse_test}\")"
      ]
    },
    {
      "cell_type": "code",
      "execution_count": 15,
      "metadata": {
        "colab": {
          "base_uri": "https://localhost:8080/"
        },
        "id": "XSnlYuTDTC08",
        "outputId": "f1fcc58a-9d6d-49ac-8b56-da649833296f"
      },
      "outputs": [
        {
          "name": "stdout",
          "output_type": "stream",
          "text": [
            ">1, train MSE: 8.786, test MSE: 296.503\n",
            ">2, train MSE: 8.786, test MSE: 296.503\n",
            ">3, train MSE: 8.786, test MSE: 296.503\n",
            ">4, train MSE: 8.786, test MSE: 296.503\n",
            ">5, train MSE: 8.786, test MSE: 296.503\n",
            ">6, train MSE: 8.786, test MSE: 296.503\n",
            ">7, train MSE: 8.786, test MSE: 296.503\n",
            ">8, train MSE: 8.786, test MSE: 296.503\n",
            ">9, train MSE: 8.786, test MSE: 296.503\n",
            ">10, train MSE: 8.786, test MSE: 296.503\n",
            ">11, train MSE: 8.786, test MSE: 296.503\n",
            ">12, train MSE: 8.786, test MSE: 296.503\n",
            ">13, train MSE: 8.786, test MSE: 296.503\n",
            ">14, train MSE: 8.786, test MSE: 296.503\n",
            ">15, train MSE: 8.786, test MSE: 296.503\n",
            ">16, train MSE: 8.786, test MSE: 296.503\n",
            ">17, train MSE: 8.786, test MSE: 296.503\n",
            ">18, train MSE: 8.786, test MSE: 296.503\n",
            ">19, train MSE: 8.786, test MSE: 296.503\n",
            ">20, train MSE: 8.786, test MSE: 296.503\n"
          ]
        }
      ],
      "source": [
        "from sklearn.metrics import mean_squared_error\n",
        "\n",
        "train_errors = []\n",
        "test_errors = []\n",
        "values = range(1, 21)  # Example range for tree depths\n",
        "\n",
        "for i in values:\n",
        "    # Configure the model\n",
        "    model = LinearRegression()\n",
        "    # Fit model on the training dataset\n",
        "    model.fit(X_train, y_train)\n",
        "    # Evaluate on the train dataset\n",
        "    train_yhat = model.predict(X_train)\n",
        "    train_mse = mean_squared_error(y_train, train_yhat)\n",
        "    train_errors.append(train_mse)\n",
        "    # Evaluate on the test dataset\n",
        "    test_yhat = model.predict(X_test)\n",
        "    test_mse = mean_squared_error(y_test, test_yhat)\n",
        "    test_mse = test_mse/10000000000000000000\n",
        "    test_errors.append(test_mse)\n",
        "    # Summarize progress\n",
        "    print(f'>{i}, train MSE: {train_mse:.3f}, test MSE: {test_mse:.3f}')\n"
      ]
    },
    {
      "cell_type": "code",
      "execution_count": 16,
      "metadata": {
        "colab": {
          "base_uri": "https://localhost:8080/",
          "height": 564
        },
        "id": "NwFraQDLTd3j",
        "outputId": "ee6e1463-4361-4b10-ef0f-31fd039b956f"
      },
      "outputs": [
        {
          "data": {
            "image/png": "[encoded data removed]",
            "text/plain": [
              "<Figure size 1200x600 with 1 Axes>"
            ]
          },
          "metadata": {},
          "output_type": "display_data"
        }
      ],
      "source": [
        "import matplotlib.pyplot as plt\n",
        "plt.figure(figsize=(12, 6))\n",
        "plt.plot(values, train_errors, marker='o', label='Train MSE')\n",
        "plt.plot(values, test_errors, marker='o', label='Test MSE')\n",
        "plt.xlabel('Model Complexity')\n",
        "plt.ylabel('Mean Squared Error')\n",
        "plt.title('Mean Squared Error on Train and Test Datasets (Linear Regression)')\n",
        "plt.legend()\n",
        "plt.grid(True)\n",
        "plt.show()"
      ]
    },
    {
      "cell_type": "markdown",
      "metadata": {
        "id": "5xQ0gObj8Hi8"
      },
      "source": [
        "# **LINEAR REGRESSION WITHOUT PYTHON LIBRARIES**"
      ]
    },
    {
      "cell_type": "code",
      "execution_count": 17,
      "metadata": {
        "id": "89YiaxDz7AGU"
      },
      "outputs": [],
      "source": [
        "import pandas as pd\n",
        "import numpy as np\n",
        "\n",
        "# Load data\n",
        "df = pd.read_csv('/content/salary_data_cleaned.csv')\n",
        "\n",
        "# Select relevant columns\n",
        "df_model = df[['Rating','Location','Size','Type of ownership','Industry','Sector','Revenue','hourly','employer_provided','avg_salary',\n",
        "               'same_state','age','python_yn','spark','aws','excel','Job Title','math', 'engineering', 'data analysis', 'AI']]\n",
        "df_dum = pd.get_dummies(df_model, drop_first=True)\n",
        "\n",
        "# Convert boolean columns to integers\n",
        "bool_columns = df_dum.select_dtypes(include=['bool']).columns\n",
        "df_dum[bool_columns] = df_dum[bool_columns].astype(int)\n",
        "\n",
        "# Train test split\n",
        "from sklearn.model_selection import train_test_split\n",
        "X = df_dum.drop('avg_salary', axis=1)\n",
        "y = df_dum.avg_salary.values\n",
        "X_train, X_test, y_train, y_test = train_test_split(X, y, test_size=0.2, random_state=42)\n",
        "\n",
        "# Manual implementation of linear regression\n",
        "class ManualLinearRegression:\n",
        "    def __init__(self):\n",
        "        self.coefficients = None\n",
        "        self.intercept = None\n",
        "\n",
        "    def fit(self, X, y):\n",
        "        X = np.insert(X.values, 0, 1, axis=1)  # Add intercept term\n",
        "        X_transpose = np.transpose(X)\n",
        "        X_transpose_X = np.dot(X_transpose, X)\n",
        "        X_transpose_y = np.dot(X_transpose, y)\n",
        "        solution = np.linalg.lstsq(X_transpose_X, X_transpose_y, rcond=None)[0]\n",
        "        self.intercept = solution[0]\n",
        "        self.coefficients = solution[1:]\n",
        "\n",
        "    def predict(self, X):\n",
        "        return np.dot(X.values, self.coefficients) + self.intercept\n",
        "\n",
        "# Fit the model\n",
        "manual_lr = ManualLinearRegression()\n",
        "manual_lr.fit(X_train, y_train)\n",
        "y_pred_lr = manual_lr.predict(X_test)\n",
        "\n"
      ]
    },
    {
      "cell_type": "markdown",
      "metadata": {
        "id": "6ZwYubs_987u"
      },
      "source": [
        "Performance Metrics"
      ]
    },
    {
      "cell_type": "code",
      "execution_count": 18,
      "metadata": {
        "colab": {
          "base_uri": "https://localhost:8080/"
        },
        "id": "CTOtYOVO9_pw",
        "outputId": "15af2476-3db0-4eb7-c686-cf2514d7bbef"
      },
      "outputs": [
        {
          "name": "stdout",
          "output_type": "stream",
          "text": [
            "Mean Squared Error : 3764.7869286483306\n",
            "Mean Absolute Error : 29.58152150652978\n",
            "Root Mean Squared Error : 61.35785955073996\n",
            "R-squared (R²) Score: -1.303310582598049\n",
            "Adjusted R-squared (Adjusted R²) Score: 1.7729931206905016\n",
            "Mean Absolute Percentage Error (MAPE): 32.110356705567405\n",
            "Explained Variance Score: -1.20083366498858\n"
          ]
        }
      ],
      "source": [
        "# Mean Squared Error (MSE)\n",
        "def mean_squared_error(y_true, y_pred):\n",
        "    return np.mean((y_true - y_pred) ** 2)\n",
        "\n",
        "# Mean Absolute Error (MAE)\n",
        "def mean_absolute_error(y_true, y_pred):\n",
        "    return np.mean(np.abs(y_true - y_pred))\n",
        "\n",
        "# Root Mean Squared Error (RMSE)\n",
        "def root_mean_squared_error(y_true, y_pred):\n",
        "    return np.sqrt(mean_squared_error(y_true, y_pred))\n",
        "\n",
        "# R-squared (R²) Score\n",
        "def r2_score(y_true, y_pred):\n",
        "    ss_total = np.sum((y_true - np.mean(y_true)) ** 2)\n",
        "    ss_residual = np.sum((y_true - y_pred) ** 2)\n",
        "    return 1 - (ss_residual / ss_total)\n",
        "\n",
        "# Adjusted R-squared (Adjusted R²) Score\n",
        "def adjusted_r2_score(y_true, y_pred, X):\n",
        "    r2 = r2_score(y_true, y_pred)\n",
        "    n = X.shape[0]\n",
        "    p = X.shape[1]\n",
        "    return 1 - (1 - r2) * (n - 1) / (n - p - 1)\n",
        "\n",
        "# Mean Absolute Percentage Error (MAPE)\n",
        "def mean_absolute_percentage_error(y_true, y_pred):\n",
        "    return np.mean(np.abs((y_true - y_pred) / y_true)) * 100\n",
        "\n",
        "\n",
        "# Explained Variance Score\n",
        "def explained_variance_score(y_true, y_pred):\n",
        "    variance_y_true = np.var(y_true)\n",
        "    variance_residual = np.var(y_true - y_pred)\n",
        "    return 1 - (variance_residual / variance_y_true)\n",
        "\n",
        "# Calculating all metrics\n",
        "mse = mean_squared_error(y_test, y_pred_lr)\n",
        "mae = mean_absolute_error(y_test, y_pred_lr)\n",
        "rmse = root_mean_squared_error(y_test, y_pred_lr)\n",
        "r2 = r2_score(y_test, y_pred_lr)\n",
        "adjusted_r2 = adjusted_r2_score(y_test, y_pred_lr, X_test)\n",
        "mape = mean_absolute_percentage_error(y_test, y_pred_lr)\n",
        "explained_variance = explained_variance_score(y_test, y_pred_lr)\n",
        "\n",
        "# Printing the metrics\n",
        "print(\"Mean Squared Error :\", mse)\n",
        "print(\"Mean Absolute Error :\", mae)\n",
        "print(\"Root Mean Squared Error :\", rmse)\n",
        "print(\"R-squared (R²) Score:\", r2)\n",
        "print(\"Adjusted R-squared (Adjusted R²) Score:\", adjusted_r2)\n",
        "print(\"Mean Absolute Percentage Error (MAPE):\", mape)\n",
        "print(\"Explained Variance Score:\", explained_variance)"
      ]
    }
  ],
  "metadata": {
    "colab": {
      "provenance": []
    },
    "kernelspec": {
      "display_name": "Python 3",
      "name": "python3"
    },
    "language_info": {
      "name": "python"
    }
  },
  "nbformat": 4,
  "nbformat_minor": 0
}
