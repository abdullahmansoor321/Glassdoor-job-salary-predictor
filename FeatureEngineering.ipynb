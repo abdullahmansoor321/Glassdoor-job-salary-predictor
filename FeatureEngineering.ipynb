{
  "nbformat": 4,
  "nbformat_minor": 0,
  "metadata": {
    "colab": {
      "provenance": []
    },
    "kernelspec": {
      "name": "python3",
      "display_name": "Python 3"
    },
    "language_info": {
      "name": "python"
    }
  },
  "cells": [
    {
      "cell_type": "code",
      "source": [
        "import pandas as pd\n",
        "import numpy as np\n",
        "\n",
        "df = pd.read_csv('/content/salary_data_cleaned.csv')\n",
        "\n",
        "df_model=df[['Rating','Location','Size','Type of ownership','Industry','Sector','Revenue','hourly','employer_provided','avg_salary',\n",
        "       'same_state','age','python_yn','spark','aws','excel','Job Title','math', 'engineering', 'data analysis', 'AI']]\n",
        "\n",
        "df_dum = pd.get_dummies(df_model)"
      ],
      "metadata": {
        "id": "bOFBXhLoymhj"
      },
      "execution_count": 103,
      "outputs": []
    },
    {
      "cell_type": "markdown",
      "source": [
        "# 1. Standardization\n",
        "We try to bring all the variables or features to a similar scale. standarisation means centering the variable at zero."
      ],
      "metadata": {
        "id": "S82tOnUs2QkD"
      }
    },
    {
      "cell_type": "code",
      "execution_count": 104,
      "metadata": {
        "id": "U-sWPfZwhsuC"
      },
      "outputs": [],
      "source": [
        "from sklearn.preprocessing import StandardScaler\n",
        "\n",
        "scaler=StandardScaler()\n",
        "df_stand=pd.DataFrame(scaler.fit_transform(df_dum),columns=df_dum.columns)"
      ]
    },
    {
      "cell_type": "code",
      "source": [
        "features=list(df_stand.columns)\n",
        "X = df_stand.drop('avg_salary', axis=1)\n",
        "y = df_stand['avg_salary'].values"
      ],
      "metadata": {
        "id": "4rvuA5Wu0AKt"
      },
      "execution_count": 105,
      "outputs": []
    },
    {
      "cell_type": "code",
      "source": [
        "import matplotlib.pyplot as plt\n",
        "from sklearn.model_selection import train_test_split, cross_val_score\n",
        "from sklearn.metrics import mean_squared_error\n",
        "from sklearn import metrics\n",
        "from sklearn.metrics import classification_report\n",
        "from sklearn.metrics import accuracy_score\n",
        "from sklearn.ensemble import GradientBoostingRegressor"
      ],
      "metadata": {
        "id": "TBFgd7Bb0UUU"
      },
      "execution_count": 106,
      "outputs": []
    },
    {
      "cell_type": "code",
      "source": [
        "X_train, X_test, y_train, y_test = train_test_split(X,y,test_size=0.2, random_state=42)"
      ],
      "metadata": {
        "id": "sUi7nC_71w_j"
      },
      "execution_count": 107,
      "outputs": []
    },
    {
      "cell_type": "markdown",
      "source": [
        "Gradient Boosting Algorithm applied\n"
      ],
      "metadata": {
        "id": "0jo_tpBG2C4L"
      }
    },
    {
      "cell_type": "code",
      "source": [
        "gbm = GradientBoostingRegressor()\n",
        "gbm = gbm.fit(X_train, y_train)\n",
        "Y_pred = gbm.predict(X_test)\n",
        "n_estimators=150\n",
        "max_depth=5\n",
        "loss='ls'\n",
        "gbm_best_params = GradientBoostingRegressor(n_estimators=150, max_depth=5, loss='ls')\n",
        "from sklearn.metrics import mean_squared_error,mean_absolute_error, r2_score\n",
        "\n",
        "print(\"Mean Squared Error :\",mean_squared_error(y_test,Y_pred))\n",
        "print(\"Mean Absolute Error :\",mean_absolute_error(y_test,Y_pred))\n",
        "print(\"Root Mean Squared Error :\",mean_squared_error(y_test,Y_pred,squared=False))\n",
        "\n",
        "coeffofdet = r2_score(y_test, gbm.predict(X_test))\n",
        "print(\"The Coefficient Of Determination on test set: {:.4f}\".format(coeffofdet))\n",
        "mape = (100 / len(y_test)) * np.sum(np.abs((y_test - gbm.predict(X_test)) / y_test))"
      ],
      "metadata": {
        "colab": {
          "base_uri": "https://localhost:8080/"
        },
        "id": "GP7QuHFZ1zkX",
        "outputId": "957c37ae-7b44-42ad-a539-cc9083b0697f"
      },
      "execution_count": 108,
      "outputs": [
        {
          "output_type": "stream",
          "name": "stdout",
          "text": [
            "Mean Squared Error : 0.5140278845190754\n",
            "Mean Absolute Error : 0.5669597311795299\n",
            "Root Mean Squared Error : 0.7169573798483948\n",
            "The Coefficient Of Determination on test set: 0.5258\n"
          ]
        }
      ]
    },
    {
      "cell_type": "markdown",
      "source": [
        "Decision Tree Algorithm applied"
      ],
      "metadata": {
        "id": "jM_Asze84p7G"
      }
    },
    {
      "cell_type": "code",
      "source": [
        "# Train scikit-learn Decision Tree Regressor\n",
        "from sklearn.tree import DecisionTreeRegressor\n",
        "from sklearn.metrics import mean_squared_error, r2_score, mean_absolute_error\n",
        "sklearn_regressor = DecisionTreeRegressor(max_depth=10, min_samples_split=5, min_samples_leaf=2)\n",
        "sklearn_regressor.fit(X_train, y_train)\n",
        "\n",
        "# Make predictions using scikit-learn's model\n",
        "sklearn_predictions = sklearn_regressor.predict(X_test)\n",
        "\n",
        "# Calculate performance metrics for scikit-learn's model\n",
        "mse_sklearn = mean_squared_error(y_test, sklearn_predictions)\n",
        "r2_sklearn = r2_score(y_test, sklearn_predictions)\n",
        "mae_sklearn = mean_absolute_error(y_test, sklearn_predictions)\n",
        "\n",
        "print(\"Scikit-learn Mean Squared Error: \", mse_sklearn)\n",
        "print(\"Scikit-learn R-squared: \", r2_sklearn)\n",
        "print(\"Scikit-learn Mean Absolute Error: \", mae_sklearn)"
      ],
      "metadata": {
        "colab": {
          "base_uri": "https://localhost:8080/"
        },
        "id": "r0lwJ3hU4uN8",
        "outputId": "8b4e5950-7447-4d15-d6b1-d2241bcab9c6"
      },
      "execution_count": 109,
      "outputs": [
        {
          "output_type": "stream",
          "name": "stdout",
          "text": [
            "Scikit-learn Mean Squared Error:  0.6602588400777225\n",
            "Scikit-learn R-squared:  0.3909462096110573\n",
            "Scikit-learn Mean Absolute Error:  0.5867432880874167\n"
          ]
        }
      ]
    },
    {
      "cell_type": "markdown",
      "source": [
        "Linear Regression Algorithm applied"
      ],
      "metadata": {
        "id": "sw6Y94bK4wq-"
      }
    },
    {
      "cell_type": "code",
      "source": [
        "import pandas as pd\n",
        "import numpy as np\n",
        "import seaborn as sns\n",
        "import matplotlib.pyplot as plt\n",
        "from sklearn.model_selection import train_test_split\n",
        "from sklearn.linear_model import LinearRegression\n",
        "from sklearn.metrics import mean_squared_error, mean_absolute_error, r2_score, explained_variance_score\n",
        "# Fit the model\n",
        "lr = LinearRegression()\n",
        "lr.fit(X_train, y_train)\n",
        "y_pred_lr = lr.predict(X_test)\n",
        "\n",
        "# Calculate metrics\n",
        "mse = mean_squared_error(y_test, y_pred_lr)\n",
        "mae = mean_absolute_error(y_test, y_pred_lr)\n",
        "rmse = mean_squared_error(y_test, y_pred_lr, squared=False)\n",
        "r2 = r2_score(y_test, y_pred_lr)\n",
        "\n",
        "def adjusted_r2_score(y_true, y_pred, X):\n",
        "    r2 = r2_score(y_true, y_pred)\n",
        "    n = X.shape[0]\n",
        "    p = X.shape[1]\n",
        "    return 1 - (1 - r2) * (n - 1) / (n - p - 1)\n",
        "\n",
        "adjusted_r2 = adjusted_r2_score(y_test, y_pred_lr, X_test)\n",
        "\n",
        "def mean_absolute_percentage_error(y_true, y_pred):\n",
        "    return np.mean(np.abs((y_true - y_pred) / y_true)) * 100\n",
        "\n",
        "mape = mean_absolute_percentage_error(y_test, y_pred_lr)\n",
        "explained_variance = explained_variance_score(y_test, y_pred_lr)\n",
        "\n",
        "print(\"Mean Squared Error :\", mse)\n",
        "print(\"Mean Absolute Error :\", mae)\n",
        "print(\"Root Mean Squared Error :\", rmse)\n",
        "print(\"R-squared (R²) Score:\", r2)\n",
        "print(\"Adjusted R-squared (Adjusted R²) Score:\", adjusted_r2)\n",
        "print(\"Mean Absolute Percentage Error (MAPE):\", mape)\n",
        "print(\"Explained Variance Score:\", explained_variance)#write linear regression code"
      ],
      "metadata": {
        "id": "Lze_mNlS4zT_",
        "colab": {
          "base_uri": "https://localhost:8080/"
        },
        "outputId": "81169378-d520-44cc-8867-a1d08e800f8e"
      },
      "execution_count": 110,
      "outputs": [
        {
          "output_type": "stream",
          "name": "stdout",
          "text": [
            "Mean Squared Error : 2.418923738183627e+27\n",
            "Mean Absolute Error : 20023330069236.793\n",
            "Root Mean Squared Error : 49182555222188.555\n",
            "R-squared (R²) Score: -2.2313289606680678e+27\n",
            "Adjusted R-squared (Adjusted R²) Score: 7.37135460220701e+26\n",
            "Mean Absolute Percentage Error (MAPE): 2.84127247590694e+16\n",
            "Explained Variance Score: -2.2169614862976435e+27\n"
          ]
        }
      ]
    },
    {
      "cell_type": "markdown",
      "source": [
        "Random Forest Algorithm applied"
      ],
      "metadata": {
        "id": "nRjciKUP41uj"
      }
    },
    {
      "cell_type": "code",
      "source": [
        "from sklearn.ensemble import RandomForestRegressor\n",
        "from sklearn.metrics import mean_squared_error, r2_score, mean_absolute_error\n",
        "\n",
        "# Train and evaluate scikit-learn's RandomForestRegressor\n",
        "sklearn_regressor = RandomForestRegressor(n_estimators=100, max_depth=10, min_samples_split=5, min_samples_leaf=2, random_state=42, n_jobs=-1)\n",
        "sklearn_regressor.fit(X_train, y_train)\n",
        "predictions_sklearn = sklearn_regressor.predict(X_test)\n",
        "\n",
        "mse_sklearn = mean_squared_error(y_test, predictions_sklearn)\n",
        "r2_sklearn = r2_score(y_test, predictions_sklearn)\n",
        "mae_sklearn = mean_absolute_error(y_test, predictions_sklearn)\n",
        "\n",
        "print(\"Mean Squared Error (Scikit-learn): \", mse_sklearn)\n",
        "print(\"R-squared (Scikit-learn): \", r2_sklearn)\n",
        "print(\"Mean Absolute Error (Scikit-learn): \", mae_sklearn)"
      ],
      "metadata": {
        "id": "eAh1ohtJ43ru",
        "colab": {
          "base_uri": "https://localhost:8080/"
        },
        "outputId": "279ca0ce-1251-4387-bdc7-5b4e2fc2b748"
      },
      "execution_count": 111,
      "outputs": [
        {
          "output_type": "stream",
          "name": "stdout",
          "text": [
            "Mean Squared Error (Scikit-learn):  0.5017567774047497\n",
            "R-squared (Scikit-learn):  0.5371559628103875\n",
            "Mean Absolute Error (Scikit-learn):  0.5410440065032274\n"
          ]
        }
      ]
    },
    {
      "cell_type": "markdown",
      "source": [
        "# 2.Guassian Transformation (square root transfromation)\n"
      ],
      "metadata": {
        "id": "lFH7agMn2UO5"
      }
    },
    {
      "cell_type": "code",
      "source": [
        "import scipy.stats as stat\n",
        "import pylab\n",
        "\n",
        "df = pd.read_csv('/content/salary_data_cleaned.csv')\n",
        "\n",
        "features = ['Rating','Location','Size','Type of ownership','Industry','Sector','Revenue','hourly','employer_provided','avg_salary',\n",
        "       'same_state','age','python_yn','spark','aws','excel','Job Title','math', 'engineering', 'data analysis', 'AI']\n",
        "\n",
        "# Select the relevant features from the dataframe\n",
        "df_model = df[features].copy()\n",
        "\n",
        "# Separate numerical and categorical features\n",
        "numerical_features = df_model.select_dtypes(include=[np.number]).columns.tolist()\n",
        "categorical_features = df_model.select_dtypes(exclude=[np.number]).columns.tolist()\n",
        "\n",
        "# Create a new dataframe for the transformed numerical features\n",
        "transformed_numerical = pd.DataFrame()\n",
        "\n",
        "# Apply square root transformation to numerical features\n",
        "for feature in numerical_features:\n",
        "    transformed_numerical[feature + '_sqroot'] = np.sqrt(df_model[feature].abs())  # Ensure non-negative values\n",
        "\n",
        "# Combine transformed numerical features with categorical features\n",
        "df_transformed = pd.concat([transformed_numerical, df_model[categorical_features]], axis=1)\n",
        "\n",
        "# Define X and y\n",
        "X = df_transformed.drop('avg_salary_sqroot', axis=1)\n",
        "y = df_transformed['avg_salary_sqroot'].values"
      ],
      "metadata": {
        "id": "1VofapFJ2XAz"
      },
      "execution_count": 112,
      "outputs": []
    },
    {
      "cell_type": "markdown",
      "source": [
        "Gradient Boosting Algorithm applied"
      ],
      "metadata": {
        "id": "WrVTuj4Q4LPR"
      }
    },
    {
      "cell_type": "code",
      "source": [
        "gbm = GradientBoostingRegressor()\n",
        "gbm = gbm.fit(X_train, y_train)\n",
        "Y_pred = gbm.predict(X_test)\n",
        "n_estimators=150\n",
        "max_depth=5\n",
        "loss='ls'\n",
        "gbm_best_params = GradientBoostingRegressor(n_estimators=150, max_depth=5, loss='ls')\n",
        "from sklearn.metrics import mean_squared_error,mean_absolute_error, r2_score\n",
        "\n",
        "print(\"Mean Squared Error :\",mean_squared_error(y_test,Y_pred))\n",
        "print(\"Mean Absolute Error :\",mean_absolute_error(y_test,Y_pred))\n",
        "print(\"Root Mean Squared Error :\",mean_squared_error(y_test,Y_pred,squared=False))\n",
        "\n",
        "coeffofdet = r2_score(y_test, gbm.predict(X_test))\n",
        "print(\"The Coefficient Of Determination on test set: {:.4f}\".format(coeffofdet))\n",
        "mape = (100 / len(y_test)) * np.sum(np.abs((y_test - gbm.predict(X_test)) / y_test))"
      ],
      "metadata": {
        "colab": {
          "base_uri": "https://localhost:8080/"
        },
        "id": "ckUV9Xzx4N9L",
        "outputId": "c2438a5e-9064-485b-8414-e91b2e168ded"
      },
      "execution_count": 113,
      "outputs": [
        {
          "output_type": "stream",
          "name": "stdout",
          "text": [
            "Mean Squared Error : 0.5122576029218844\n",
            "Mean Absolute Error : 0.5693811052959401\n",
            "Root Mean Squared Error : 0.7157217356779689\n",
            "The Coefficient Of Determination on test set: 0.5275\n"
          ]
        }
      ]
    },
    {
      "cell_type": "markdown",
      "source": [
        "Decision Tree algorithm applied"
      ],
      "metadata": {
        "id": "gRudiBAu47Xz"
      }
    },
    {
      "cell_type": "code",
      "source": [
        "\n",
        "# Train scikit-learn Decision Tree Regressor\n",
        "sklearn_regressor = DecisionTreeRegressor(max_depth=10, min_samples_split=5, min_samples_leaf=2)\n",
        "sklearn_regressor.fit(X_train, y_train)\n",
        "\n",
        "# Make predictions using scikit-learn's model\n",
        "sklearn_predictions = sklearn_regressor.predict(X_test)\n",
        "\n",
        "# Calculate performance metrics for scikit-learn's model\n",
        "mse_sklearn = mean_squared_error(y_test, sklearn_predictions)\n",
        "r2_sklearn = r2_score(y_test, sklearn_predictions)\n",
        "mae_sklearn = mean_absolute_error(y_test, sklearn_predictions)\n",
        "\n",
        "print(\"Scikit-learn Mean Squared Error: \", mse_sklearn)\n",
        "print(\"Scikit-learn R-squared: \", r2_sklearn)\n",
        "print(\"Scikit-learn Mean Absolute Error: \", mae_sklearn)"
      ],
      "metadata": {
        "colab": {
          "base_uri": "https://localhost:8080/"
        },
        "id": "BOXppbZx49xQ",
        "outputId": "1ebbccc2-f83f-47cb-e199-f07785288c32"
      },
      "execution_count": 114,
      "outputs": [
        {
          "output_type": "stream",
          "name": "stdout",
          "text": [
            "Scikit-learn Mean Squared Error:  0.6517994396029174\n",
            "Scikit-learn R-squared:  0.3987495582538283\n",
            "Scikit-learn Mean Absolute Error:  0.5804057512069669\n"
          ]
        }
      ]
    },
    {
      "cell_type": "markdown",
      "source": [
        "Linear Regression algorithm applied"
      ],
      "metadata": {
        "id": "B8BYP7wW4_29"
      }
    },
    {
      "cell_type": "code",
      "source": [
        "import pandas as pd\n",
        "import numpy as np\n",
        "import seaborn as sns\n",
        "import matplotlib.pyplot as plt\n",
        "from sklearn.model_selection import train_test_split\n",
        "from sklearn.linear_model import LinearRegression\n",
        "from sklearn.metrics import mean_squared_error, mean_absolute_error, r2_score, explained_variance_score\n",
        "\n",
        "# Fit the model\n",
        "lr = LinearRegression()\n",
        "lr.fit(X_train, y_train)\n",
        "y_pred_lr = lr.predict(X_test)\n",
        "\n",
        "# Calculate metrics\n",
        "mse = mean_squared_error(y_test, y_pred_lr)\n",
        "mae = mean_absolute_error(y_test, y_pred_lr)\n",
        "rmse = mean_squared_error(y_test, y_pred_lr, squared=False)\n",
        "r2 = r2_score(y_test, y_pred_lr)\n",
        "\n",
        "def adjusted_r2_score(y_true, y_pred, X):\n",
        "    r2 = r2_score(y_true, y_pred)\n",
        "    n = X.shape[0]\n",
        "    p = X.shape[1]\n",
        "    return 1 - (1 - r2) * (n - 1) / (n - p - 1)\n",
        "\n",
        "adjusted_r2 = adjusted_r2_score(y_test, y_pred_lr, X_test)\n",
        "\n",
        "def mean_absolute_percentage_error(y_true, y_pred):\n",
        "    return np.mean(np.abs((y_true - y_pred) / y_true)) * 100\n",
        "\n",
        "mape = mean_absolute_percentage_error(y_test, y_pred_lr)\n",
        "explained_variance = explained_variance_score(y_test, y_pred_lr)\n",
        "\n",
        "print(\"Mean Squared Error :\", mse)\n",
        "print(\"Mean Absolute Error :\", mae)\n",
        "print(\"Root Mean Squared Error :\", rmse)\n",
        "print(\"R-squared (R²) Score:\", r2)\n",
        "print(\"Adjusted R-squared (Adjusted R²) Score:\", adjusted_r2)\n",
        "print(\"Mean Absolute Percentage Error (MAPE):\", mape)\n",
        "print(\"Explained Variance Score:\", explained_variance)"
      ],
      "metadata": {
        "id": "paTM0Put5CAR",
        "colab": {
          "base_uri": "https://localhost:8080/"
        },
        "outputId": "652394bf-3b6d-4a26-f41b-d132e6edcbaa"
      },
      "execution_count": 115,
      "outputs": [
        {
          "output_type": "stream",
          "name": "stdout",
          "text": [
            "Mean Squared Error : 2.418923738183627e+27\n",
            "Mean Absolute Error : 20023330069236.793\n",
            "Root Mean Squared Error : 49182555222188.555\n",
            "R-squared (R²) Score: -2.2313289606680678e+27\n",
            "Adjusted R-squared (Adjusted R²) Score: 7.37135460220701e+26\n",
            "Mean Absolute Percentage Error (MAPE): 2.84127247590694e+16\n",
            "Explained Variance Score: -2.2169614862976435e+27\n"
          ]
        }
      ]
    },
    {
      "cell_type": "markdown",
      "source": [
        "Random Forest algorithm applied"
      ],
      "metadata": {
        "id": "o8LCBK185E1U"
      }
    },
    {
      "cell_type": "code",
      "source": [
        "from sklearn.ensemble import RandomForestRegressor\n",
        "from sklearn.metrics import mean_squared_error, r2_score, mean_absolute_error\n",
        "\n",
        "# Train and evaluate scikit-learn's RandomForestRegressor\n",
        "sklearn_regressor = RandomForestRegressor(n_estimators=100, max_depth=10, min_samples_split=5, min_samples_leaf=2, random_state=42, n_jobs=-1)\n",
        "sklearn_regressor.fit(X_train, y_train)\n",
        "predictions_sklearn = sklearn_regressor.predict(X_test)\n",
        "\n",
        "mse_sklearn = mean_squared_error(y_test, predictions_sklearn)\n",
        "r2_sklearn = r2_score(y_test, predictions_sklearn)\n",
        "mae_sklearn = mean_absolute_error(y_test, predictions_sklearn)\n",
        "\n",
        "print(\"Mean Squared Error (Scikit-learn): \", mse_sklearn)\n",
        "print(\"R-squared (Scikit-learn): \", r2_sklearn)\n",
        "print(\"Mean Absolute Error (Scikit-learn): \", mae_sklearn)"
      ],
      "metadata": {
        "id": "nAexelzh5HxW",
        "colab": {
          "base_uri": "https://localhost:8080/"
        },
        "outputId": "e28d5c36-24c7-41c3-e361-b7a1307ed999"
      },
      "execution_count": 117,
      "outputs": [
        {
          "output_type": "stream",
          "name": "stdout",
          "text": [
            "Mean Squared Error (Scikit-learn):  0.5017567774047497\n",
            "R-squared (Scikit-learn):  0.5371559628103875\n",
            "Mean Absolute Error (Scikit-learn):  0.5410440065032274\n"
          ]
        }
      ]
    }
  ]
}